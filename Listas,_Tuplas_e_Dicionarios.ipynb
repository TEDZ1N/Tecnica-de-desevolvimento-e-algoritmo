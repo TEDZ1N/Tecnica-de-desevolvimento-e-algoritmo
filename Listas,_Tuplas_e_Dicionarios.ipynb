{
  "nbformat": 4,
  "nbformat_minor": 0,
  "metadata": {
    "colab": {
      "provenance": [],
      "authorship_tag": "ABX9TyMbb0VyA/OxQbMp+Gp315la",
      "include_colab_link": true
    },
    "kernelspec": {
      "name": "python3",
      "display_name": "Python 3"
    },
    "language_info": {
      "name": "python"
    }
  },
  "cells": [
    {
      "cell_type": "markdown",
      "metadata": {
        "id": "view-in-github",
        "colab_type": "text"
      },
      "source": [
        "<a href=\"https://colab.research.google.com/github/TEDZ1N/Tecnica-de-desevolvimento-e-algoritmo/blob/main/Listas%2C_Tuplas_e_Dicionarios.ipynb\" target=\"_parent\"><img src=\"https://colab.research.google.com/assets/colab-badge.svg\" alt=\"Open In Colab\"/></a>"
      ]
    },
    {
      "cell_type": "code",
      "source": [
        "# Cria uma lista vazia\n",
        "numeros = []\n",
        "\n",
        "# Solicita 5 números inteiros ao usuário\n",
        "for i in range(5):\n",
        "    numero = int(input(f\"Digite o {i+1}º número inteiro: \"))\n",
        "    numeros.append(numero)\n",
        "\n",
        "# Exibe a lista final\n",
        "print(\"A lista digitada foi:\", numeros)\n"
      ],
      "metadata": {
        "colab": {
          "base_uri": "https://localhost:8080/"
        },
        "id": "LbC8tDSK79Gw",
        "outputId": "d791e467-4ed7-4b1f-dc53-524fe17ab585"
      },
      "execution_count": 1,
      "outputs": [
        {
          "output_type": "stream",
          "name": "stdout",
          "text": [
            "Digite o 1º número inteiro: 5\n",
            "Digite o 2º número inteiro: 4\n",
            "Digite o 3º número inteiro: 3\n",
            "Digite o 4º número inteiro: 2\n",
            "Digite o 5º número inteiro: 1\n",
            "A lista digitada foi: [5, 4, 3, 2, 1]\n"
          ]
        }
      ]
    },
    {
      "cell_type": "code",
      "source": [
        "# Cria uma lista de números (exemplo)\n",
        "numeros = [-5, 3, -8, 2, -1]\n",
        "\n",
        "# Aplica a função módulo (valor absoluto) a cada elemento\n",
        "modulos = [abs(num) for num in numeros]\n",
        "\n",
        "# Exibe o resultado\n",
        "print(\"Lista original:\", numeros)\n",
        "print(\"Lista com módulo aplicado:\", modulos)\n"
      ],
      "metadata": {
        "colab": {
          "base_uri": "https://localhost:8080/"
        },
        "id": "sC2vRKJ89BnD",
        "outputId": "5bf5f0f1-5ea5-4d32-b6bb-ae8227287372"
      },
      "execution_count": 2,
      "outputs": [
        {
          "output_type": "stream",
          "name": "stdout",
          "text": [
            "Lista original: [-5, 3, -8, 2, -1]\n",
            "Lista com módulo aplicado: [5, 3, 8, 2, 1]\n"
          ]
        }
      ]
    },
    {
      "cell_type": "code",
      "source": [
        "# Cria uma lista de números (exemplo)\n",
        "numeros = [-5, 3, -8, 2, -1, 7]\n",
        "\n",
        "# Remove todos os números negativos\n",
        "numeros = [num for num in numeros if num >= 0]\n",
        "\n",
        "# Exibe a lista sem números negativos\n",
        "print(\"Lista sem números negativos:\", numeros)\n"
      ],
      "metadata": {
        "colab": {
          "base_uri": "https://localhost:8080/"
        },
        "id": "R3itXYhg9LEs",
        "outputId": "ac2a1e60-57b1-4a60-cff6-fc8cfc368ee2"
      },
      "execution_count": 3,
      "outputs": [
        {
          "output_type": "stream",
          "name": "stdout",
          "text": [
            "Lista sem números negativos: [3, 2, 7]\n"
          ]
        }
      ]
    },
    {
      "cell_type": "code",
      "source": [
        "# Cria uma lista vazia para armazenar as notas\n",
        "notas = []\n",
        "\n",
        "print(\"Digite as notas da prova (digite um número negativo para encerrar):\")\n",
        "\n",
        "while True:\n",
        "    nota = float(input(\"Nota: \"))\n",
        "    if nota < 0:\n",
        "        break  # Encerra o loop quando o usuário digitar um número negativo\n",
        "    notas.append(nota)\n",
        "\n",
        "# Verifica se a lista não está vazia antes de calcular a média\n",
        "if len(notas) > 0:\n",
        "    media = sum(notas) / len(notas)\n",
        "    print(f\"\\nNotas digitadas: {notas}\")\n",
        "    print(f\"Média das notas: {media:.2f}\")\n",
        "else:\n",
        "    print(\"Nenhuma nota válida foi digitada.\")\n"
      ],
      "metadata": {
        "colab": {
          "base_uri": "https://localhost:8080/"
        },
        "id": "sKsVx_c09Tt7",
        "outputId": "9f52ce2e-fcd3-45b8-e159-194508e48a25"
      },
      "execution_count": 5,
      "outputs": [
        {
          "output_type": "stream",
          "name": "stdout",
          "text": [
            "Digite as notas da prova (digite um número negativo para encerrar):\n",
            "Nota: -1\n",
            "Nenhuma nota válida foi digitada.\n"
          ]
        }
      ]
    },
    {
      "cell_type": "code",
      "source": [
        "pares = []\n",
        "impares = []\n",
        "\n",
        "while True:\n",
        "    numero = int(input(\"Digite um número positivo (ou um número negativo para sair): \"))\n",
        "\n",
        "    if numero < 0:\n",
        "        break  # encerra o loop quando o número for negativo\n",
        "\n",
        "    if numero % 2 == 0:\n",
        "        pares.append(numero)\n",
        "    else:\n",
        "        impares.append(numero)\n",
        "\n",
        "total = len(pares) + len(impares)\n",
        "\n",
        "if total > 0:\n",
        "    porcentagem_pares = (len(pares) / total) * 100\n",
        "    porcentagem_impares = (len(impares) / total) * 100\n",
        "\n",
        "    print(\"\\n=== Resultados ===\")\n",
        "    print(f\"Números pares: {pares}\")\n",
        "    print(f\"Números ímpares: {impares}\")\n",
        "    print(f\"Porcentagem de pares: {porcentagem_pares:.2f}%\")\n",
        "    print(f\"Porcentagem de ímpares: {porcentagem_impares:.2f}%\")\n",
        "else:\n",
        "    print(\"Nenhum número positivo foi digitado.\")\n"
      ],
      "metadata": {
        "colab": {
          "base_uri": "https://localhost:8080/"
        },
        "id": "Hy-R8Mlw-0OM",
        "outputId": "1a9df697-c3fc-4b08-bcb2-0531976d7033"
      },
      "execution_count": 6,
      "outputs": [
        {
          "output_type": "stream",
          "name": "stdout",
          "text": [
            "Digite um número positivo (ou um número negativo para sair): 31\n",
            "Digite um número positivo (ou um número negativo para sair): -2\n",
            "\n",
            "=== Resultados ===\n",
            "Números pares: []\n",
            "Números ímpares: [31]\n",
            "Porcentagem de pares: 0.00%\n",
            "Porcentagem de ímpares: 100.00%\n"
          ]
        }
      ]
    },
    {
      "cell_type": "code",
      "source": [
        "numeros = []\n",
        "\n",
        "while True:\n",
        "    numero = int(input(\"Digite um número positivo (ou um número negativo para sair): \"))\n",
        "\n",
        "    if numero < 0:\n",
        "        break  # encerra o loop quando o número for negativo\n",
        "\n",
        "    if numero not in numeros:\n",
        "        numeros.append(numero)  # adiciona apenas se ainda não estiver na lista\n",
        "\n",
        "print(\"\\n=== Números digitados (sem repetição) ===\")\n",
        "print(numeros)\n"
      ],
      "metadata": {
        "colab": {
          "base_uri": "https://localhost:8080/"
        },
        "id": "DCPoup8n_PHX",
        "outputId": "746277b3-3ae7-4347-9b05-1501fb27d3a3"
      },
      "execution_count": 7,
      "outputs": [
        {
          "output_type": "stream",
          "name": "stdout",
          "text": [
            "Digite um número positivo (ou um número negativo para sair): 21\n",
            "Digite um número positivo (ou um número negativo para sair): -2\n",
            "\n",
            "=== Números digitados (sem repetição) ===\n",
            "[21]\n"
          ]
        }
      ]
    },
    {
      "cell_type": "code",
      "source": [
        "pessoas = []  # lista para armazenar as tuplas (altura, peso)\n",
        "\n",
        "for i in range(5):\n",
        "    print(f\"\\nPessoa {i + 1}:\")\n",
        "    altura = float(input(\"Digite a altura (em metros): \"))\n",
        "    peso = float(input(\"Digite o peso (em kg): \"))\n",
        "\n",
        "    pessoas.append((altura, peso))  # armazena como tupla (altura, peso)\n",
        "\n",
        "# Verifica se há pelo menos duas pessoas com mesma altura e mesmo peso\n",
        "repetido = False\n",
        "for i in range(len(pessoas)):\n",
        "    for j in range(i + 1, len(pessoas)):\n",
        "        if pessoas[i] == pessoas[j]:\n",
        "            repetido = True\n",
        "            break\n",
        "    if repetido:\n",
        "        break\n",
        "\n",
        "print(\"\\n=== Resultado ===\")\n",
        "if repetido:\n",
        "    print(\"Pelo menos duas pessoas têm a mesma altura e o mesmo peso.\")\n",
        "else:\n",
        "    print(\"Nenhuma combinação de altura e peso se repete.\")\n"
      ],
      "metadata": {
        "colab": {
          "base_uri": "https://localhost:8080/"
        },
        "id": "SfvB2lAu_eqY",
        "outputId": "90ad0342-0795-4f65-a9c3-9801484a762e"
      },
      "execution_count": 9,
      "outputs": [
        {
          "output_type": "stream",
          "name": "stdout",
          "text": [
            "\n",
            "Pessoa 1:\n",
            "Digite a altura (em metros): 150\n",
            "Digite o peso (em kg): 32\n",
            "\n",
            "Pessoa 2:\n",
            "Digite a altura (em metros): 200\n",
            "Digite o peso (em kg): 75\n",
            "\n",
            "Pessoa 3:\n",
            "Digite a altura (em metros): 175\n",
            "Digite o peso (em kg): 66\n",
            "\n",
            "Pessoa 4:\n",
            "Digite a altura (em metros): 165\n",
            "Digite o peso (em kg): 77\n",
            "\n",
            "Pessoa 5:\n",
            "Digite a altura (em metros): 155\n",
            "Digite o peso (em kg): 55\n",
            "\n",
            "=== Resultado ===\n",
            "Nenhuma combinação de altura e peso se repete.\n"
          ]
        }
      ]
    },
    {
      "cell_type": "code",
      "source": [
        "# Cria uma lista para armazenar as pessoas\n",
        "pessoas = []\n",
        "\n",
        "print(\"Digite o nome e a idade das pessoas.\")\n",
        "print(\"Para encerrar, pressione ENTER sem digitar um nome.\\n\")\n",
        "\n",
        "while True:\n",
        "    nome = input(\"Nome: \")\n",
        "    if nome == \"\":\n",
        "        break  # Sai do loop se o nome for vazio\n",
        "    idade = int(input(\"Idade: \"))\n",
        "    pessoas.append((nome, idade))  # Armazena como uma tupla (nome, idade)\n",
        "\n",
        "# Verifica se a lista não está vazia\n",
        "if pessoas:\n",
        "    # Encontra a pessoa mais velha usando a função max()\n",
        "    mais_velha = max(pessoas, key=lambda p: p[1])\n",
        "    print(f\"\\nA pessoa mais velha é {mais_velha[0]}, com {mais_velha[1]} anos.\")\n",
        "else:\n",
        "    print(\"\\nNenhuma pessoa foi cadastrada.\")\n"
      ],
      "metadata": {
        "colab": {
          "base_uri": "https://localhost:8080/"
        },
        "id": "A7Ig8zn4_xeZ",
        "outputId": "538c6bdd-fe3f-4813-9ba6-3cfc164999ca"
      },
      "execution_count": 10,
      "outputs": [
        {
          "output_type": "stream",
          "name": "stdout",
          "text": [
            "Digite o nome e a idade das pessoas.\n",
            "Para encerrar, pressione ENTER sem digitar um nome.\n",
            "\n",
            "Nome: carlos\n",
            "Idade: 13\n",
            "Nome: \n",
            "\n",
            "A pessoa mais velha é carlos, com 13 anos.\n"
          ]
        }
      ]
    },
    {
      "cell_type": "code",
      "execution_count": null,
      "metadata": {
        "colab": {
          "base_uri": "https://localhost:8080/"
        },
        "id": "akEhYDZslE7j",
        "outputId": "f83014c0-1fcd-4f41-d566-90a5278ca3e6"
      },
      "outputs": [
        {
          "output_type": "stream",
          "name": "stdout",
          "text": [
            "Quantidade de alunos: 10\n",
            "Alguém tirou nota zero? Não\n",
            "Menor nota: 6.7\n",
            "Maior nota: 9.2\n"
          ]
        }
      ],
      "source": [
        "alunos = {\n",
        "    \"Alice\": 8.5,\n",
        "    \"Bruno\": 7.8,\n",
        "    \"Carla\": 9.2,\n",
        "    \"Diego\": 6.9,\n",
        "    \"Eva\": 8.0,\n",
        "    \"Fernando\": 7.5,\n",
        "    \"Gabriela\": 9.0,\n",
        "    \"Henrique\": 6.7,\n",
        "    \"Isabela\": 8.3,\n",
        "    \"João\": 7.2\n",
        "}\n",
        "\n",
        "print(\"Quantidade de alunos:\", len(alunos))\n",
        "\n",
        "# Exibir “Sim” ou “Não”\n",
        "if 0 in alunos.values():\n",
        "    print(\"Alguém tirou nota zero? Sim\")\n",
        "else:\n",
        "    print(\"Alguém tirou nota zero? Não\")\n",
        "\n",
        "print(\"Menor nota:\", min(alunos.values()))\n",
        "print(\"Maior nota:\", max(alunos.values()))\n"
      ]
    },
    {
      "cell_type": "code",
      "source": [
        "animes = {\n",
        "    \"Naruto\": 220,\n",
        "    \"Jujutsu Kaisen\": 47,\n",
        "    \"Dragon Ball Z\": 291,\n",
        "    \"Death Note\": 37,\n",
        "    \"Fullmetal Alchemist\": 64,\n",
        "    \"Evangelion\": 26,\n",
        "    \"Berserk\": 25,\n",
        "    \"Code Geass\": 50,\n",
        "    \"Akame ga Kill\": 24,\n",
        "    \"Elfen Lied\": 13\n",
        "}\n",
        "\n",
        "# 1. Total de episódios\n",
        "total = sum(animes.values())\n",
        "print(\"Total de episódios:\", total)\n",
        "\n",
        "# 2. Substituir valores pelo percentual\n",
        "for anime in animes:\n",
        "    animes[anime] = (animes[anime] / total) * 100\n",
        "\n",
        "# 3. Ordenar em ordem decrescente de percentual\n",
        "animes_ordenados = dict(sorted(animes.items(), key=lambda x: x[1], reverse=True))\n",
        "\n",
        "# 4. Exibir nome e percentual formatado\n",
        "print(\"\\nPercentual de episódios por anime:\")\n",
        "for nome, percentual in animes_ordenados.items():\n",
        "    print(f\"{nome}: {percentual:.2f}%\")\n"
      ],
      "metadata": {
        "colab": {
          "base_uri": "https://localhost:8080/"
        },
        "id": "obHboHhGmBl5",
        "outputId": "4dcd4c33-c5c7-45b4-f929-c4e7dedbeacd"
      },
      "execution_count": null,
      "outputs": [
        {
          "output_type": "stream",
          "name": "stdout",
          "text": [
            "Total de episódios: 797\n",
            "\n",
            "Percentual de episódios por anime:\n",
            "Dragon Ball Z: 36.51%\n",
            "Naruto: 27.60%\n",
            "Fullmetal Alchemist: 8.03%\n",
            "Code Geass: 6.27%\n",
            "Jujutsu Kaisen: 5.90%\n",
            "Death Note: 4.64%\n",
            "Evangelion: 3.26%\n",
            "Berserk: 3.14%\n",
            "Akame ga Kill: 3.01%\n",
            "Elfen Lied: 1.63%\n"
          ]
        }
      ]
    },
    {
      "cell_type": "code",
      "source": [
        "bandas = {\n",
        "    \"Gangrena Gasosa\": [\n",
        "        {\"álbum\": \"Gente Ruim Só Manda Lembrança Pra Quem Não Presta\", \"ano\": 2019},\n",
        "        {\"álbum\": \"Se Deus É 10, Satanás É 666\", \"ano\": 1999},\n",
        "        {\"álbum\": \"Welcome to the Macumba\", \"ano\": 1993}\n",
        "    ],\n",
        "    \"Rogério Skylab\": [\n",
        "        {\"álbum\": \"Nas Portas do Cu\", \"ano\": 2023},\n",
        "        {\"álbum\": \"Crítica da Faculdade do Cu\", \"ano\": 2021},\n",
        "        {\"álbum\": \"Cosmos\", \"ano\": 2019}\n",
        "    ],\n",
        "    \"Garotos Podres\": [\n",
        "        {\"álbum\": \"Canções para Ninar\", \"ano\": 2003},\n",
        "        {\"álbum\": \"Com a Corda Toda\", \"ano\": 1997},\n",
        "        {\"álbum\": \"Rock de Subúrbio\", \"ano\": 1995}\n",
        "    ],\n",
        "    \"Massacration\": [\n",
        "        {\"álbum\": \"Live Metal Espancation\", \"ano\": 2017},\n",
        "        {\"álbum\": \"Good Blood Headbanguers\", \"ano\": 2009},\n",
        "        {\"álbum\": \"Gates of Metal Fried Chicken of Death\", \"ano\": 2005}\n",
        "    ],\n",
        "    \"Raimundos\": [\n",
        "        {\"álbum\": \"Cantigas de Roda\", \"ano\": 2014},\n",
        "        {\"álbum\": \"Roda Viva\", \"ano\": 2002},\n",
        "        {\"álbum\": \"Éramos 4\", \"ano\": 2001}\n",
        "    ]\n",
        "}\n",
        "\n",
        "# 1️⃣ Álbum mais antigo\n",
        "todos_albuns = []\n",
        "for banda, albuns in bandas.items():\n",
        "    for a in albuns:\n",
        "        todos_albuns.append({\"banda\": banda, \"álbum\": a[\"álbum\"], \"ano\": a[\"ano\"]})\n",
        "\n",
        "mais_antigo = min(todos_albuns, key=lambda x: x[\"ano\"])\n",
        "print(f\"Álbum mais antigo: '{mais_antigo['álbum']}' da banda {mais_antigo['banda']} ({mais_antigo['ano']})\")\n",
        "\n",
        "# 2️⃣ Banda com maior intervalo entre os álbuns\n",
        "maior_intervalo = 0\n",
        "banda_maior_intervalo = None\n",
        "\n",
        "for banda, albuns in bandas.items():\n",
        "    anos = [a[\"ano\"] for a in albuns]\n",
        "    intervalo = max(anos) - min(anos)\n",
        "    if intervalo > maior_intervalo:\n",
        "        maior_intervalo = intervalo\n",
        "        banda_maior_intervalo = banda\n",
        "\n",
        "print(f\"Banda com maior intervalo entre álbuns: {banda_maior_intervalo} ({maior_intervalo} anos)\")\n",
        "\n",
        "# 3️⃣ Todos os álbuns do mais novo para o mais antigo\n",
        "todos_albuns.sort(key=lambda x: x[\"ano\"], reverse=True)\n",
        "print(\"\\nÁlbuns do mais novo para o mais antigo:\")\n",
        "for a in todos_albuns:\n",
        "    print(f\"{a['ano']} - {a['álbum']} ({a['banda']})\")\n"
      ],
      "metadata": {
        "colab": {
          "base_uri": "https://localhost:8080/"
        },
        "id": "m6h6QQtWpau8",
        "outputId": "17190af7-64e2-4cda-e7b3-44a69f9ed0f3"
      },
      "execution_count": null,
      "outputs": [
        {
          "output_type": "stream",
          "name": "stdout",
          "text": [
            "Álbum mais antigo: 'Welcome to the Macumba' da banda Gangrena Gasosa (1993)\n",
            "Banda com maior intervalo entre álbuns: Gangrena Gasosa (26 anos)\n",
            "\n",
            "Álbuns do mais novo para o mais antigo:\n",
            "2023 - Nas Portas do Cu (Rogério Skylab)\n",
            "2021 - Crítica da Faculdade do Cu (Rogério Skylab)\n",
            "2019 - Gente Ruim Só Manda Lembrança Pra Quem Não Presta (Gangrena Gasosa)\n",
            "2019 - Cosmos (Rogério Skylab)\n",
            "2017 - Live Metal Espancation (Massacration)\n",
            "2014 - Cantigas de Roda (Raimundos)\n",
            "2009 - Good Blood Headbanguers (Massacration)\n",
            "2005 - Gates of Metal Fried Chicken of Death (Massacration)\n",
            "2003 - Canções para Ninar (Garotos Podres)\n",
            "2002 - Roda Viva (Raimundos)\n",
            "2001 - Éramos 4 (Raimundos)\n",
            "1999 - Se Deus É 10, Satanás É 666 (Gangrena Gasosa)\n",
            "1997 - Com a Corda Toda (Garotos Podres)\n",
            "1995 - Rock de Subúrbio (Garotos Podres)\n",
            "1993 - Welcome to the Macumba (Gangrena Gasosa)\n"
          ]
        }
      ]
    }
  ]
}