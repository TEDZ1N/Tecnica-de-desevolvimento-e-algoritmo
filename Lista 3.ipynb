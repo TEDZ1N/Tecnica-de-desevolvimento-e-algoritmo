{
  "nbformat": 4,
  "nbformat_minor": 0,
  "metadata": {
    "colab": {
      "provenance": [],
      "authorship_tag": "ABX9TyOktfTIFgGXu2Z4LXKzuNgN",
      "include_colab_link": true
    },
    "kernelspec": {
      "name": "python3",
      "display_name": "Python 3"
    },
    "language_info": {
      "name": "python"
    }
  },
  "cells": [
    {
      "cell_type": "markdown",
      "metadata": {
        "id": "view-in-github",
        "colab_type": "text"
      },
      "source": [
        "<a href=\"https://colab.research.google.com/github/TEDZ1N/Tecnica-de-desevolvimento-e-algoritmo/blob/main/Lista%203.ipynb\" target=\"_parent\"><img src=\"https://colab.research.google.com/assets/colab-badge.svg\" alt=\"Open In Colab\"/></a>"
      ]
    },
    {
      "cell_type": "code",
      "metadata": {
        "colab": {
          "base_uri": "https://localhost:8080/"
        },
        "id": "6bf9951f",
        "outputId": "a8ca69c7-12e6-45bc-90fe-af2afc87d543"
      },
      "source": [
        "# 1. Elabore um algoritmo que imprima na tela lado a lado o texto \"Hello World!\" 10 vezes\n",
        "\n",
        "print(\"Hello World! \" * 10)"
      ],
      "execution_count": null,
      "outputs": [
        {
          "output_type": "stream",
          "name": "stdout",
          "text": [
            "Hello World! Hello World! Hello World! Hello World! Hello World! Hello World! Hello World! Hello World! Hello World! Hello World! \n"
          ]
        }
      ]
    },
    {
      "cell_type": "code",
      "source": [
        "# 2. Elabore um algoritmo que imprima na tela o texto \"Hello World!\" 10 vezes, um por linha\n",
        "\n",
        "for i in range(10):\n",
        "  print(\"Hello World!\")"
      ],
      "metadata": {
        "colab": {
          "base_uri": "https://localhost:8080/"
        },
        "id": "-8lPa3kMUBpi",
        "outputId": "3c4a1463-ec34-40fb-8e3a-097bf4bbf403"
      },
      "execution_count": null,
      "outputs": [
        {
          "output_type": "stream",
          "name": "stdout",
          "text": [
            "Hello World!\n",
            "Hello World!\n",
            "Hello World!\n",
            "Hello World!\n",
            "Hello World!\n",
            "Hello World!\n",
            "Hello World!\n",
            "Hello World!\n",
            "Hello World!\n",
            "Hello World!\n"
          ]
        }
      ]
    },
    {
      "cell_type": "code",
      "metadata": {
        "colab": {
          "base_uri": "https://localhost:8080/"
        },
        "id": "0cc2f548",
        "outputId": "2377ce23-6864-482d-fe98-2a8d9531f608"
      },
      "source": [
        "# 3. Elabore um algoritmo que imprima todos os números inteiros de 1 até 100 inclusive.\n",
        "\n",
        "for i in range(1, 101):\n",
        "  print(i)"
      ],
      "execution_count": null,
      "outputs": [
        {
          "output_type": "stream",
          "name": "stdout",
          "text": [
            "1\n",
            "2\n",
            "3\n",
            "4\n",
            "5\n",
            "6\n",
            "7\n",
            "8\n",
            "9\n",
            "10\n",
            "11\n",
            "12\n",
            "13\n",
            "14\n",
            "15\n",
            "16\n",
            "17\n",
            "18\n",
            "19\n",
            "20\n",
            "21\n",
            "22\n",
            "23\n",
            "24\n",
            "25\n",
            "26\n",
            "27\n",
            "28\n",
            "29\n",
            "30\n",
            "31\n",
            "32\n",
            "33\n",
            "34\n",
            "35\n",
            "36\n",
            "37\n",
            "38\n",
            "39\n",
            "40\n",
            "41\n",
            "42\n",
            "43\n",
            "44\n",
            "45\n",
            "46\n",
            "47\n",
            "48\n",
            "49\n",
            "50\n",
            "51\n",
            "52\n",
            "53\n",
            "54\n",
            "55\n",
            "56\n",
            "57\n",
            "58\n",
            "59\n",
            "60\n",
            "61\n",
            "62\n",
            "63\n",
            "64\n",
            "65\n",
            "66\n",
            "67\n",
            "68\n",
            "69\n",
            "70\n",
            "71\n",
            "72\n",
            "73\n",
            "74\n",
            "75\n",
            "76\n",
            "77\n",
            "78\n",
            "79\n",
            "80\n",
            "81\n",
            "82\n",
            "83\n",
            "84\n",
            "85\n",
            "86\n",
            "87\n",
            "88\n",
            "89\n",
            "90\n",
            "91\n",
            "92\n",
            "93\n",
            "94\n",
            "95\n",
            "96\n",
            "97\n",
            "98\n",
            "99\n",
            "100\n"
          ]
        }
      ]
    },
    {
      "cell_type": "code",
      "metadata": {
        "id": "e32ca32c"
      },
      "source": [
        "# 4. Elabore um algoritmo que imprima 100 vezes o texto \"1- Hello World!\" com o número.\n",
        "\n",
        "for i in range(1, 101):\n",
        "  print(f\"{i}- Hello World!\")"
      ],
      "execution_count": null,
      "outputs": []
    },
    {
      "cell_type": "code",
      "metadata": {
        "id": "54111375"
      },
      "source": [
        "# 5. Elabore um algoritmo que imprima todos os números decrescentes de 100 até 0 inclusive\n",
        "\n",
        "for i in range(100, -1, -1):\n",
        "  print(i)"
      ],
      "execution_count": null,
      "outputs": []
    },
    {
      "cell_type": "code",
      "metadata": {
        "id": "cbb841b7"
      },
      "source": [
        "# 6. Elabore um algoritmo que imprima todos os números pares inteiros de 1 até 1000\n",
        "\n",
        "for i in range(2, 1001, 2):\n",
        "  print(i)"
      ],
      "execution_count": null,
      "outputs": []
    },
    {
      "cell_type": "code",
      "metadata": {
        "id": "9cf1bc6f"
      },
      "source": [
        "# 7. Elabore um algoritmo que imprima todos os números ímpares de 1000 até 0.\n",
        "\n",
        "for i in range(999, -1, -2):\n",
        "  print(i)"
      ],
      "execution_count": null,
      "outputs": []
    },
    {
      "cell_type": "code",
      "metadata": {
        "id": "b98dc4bb"
      },
      "source": [
        "# 8. Elabore um algoritmo que imprima a soma dos 100 primeiros números inteiros positivos\n",
        "\n",
        "soma = 0\n",
        "for i in range(1, 101):\n",
        "  soma += i\n",
        "print(soma)"
      ],
      "execution_count": null,
      "outputs": []
    },
    {
      "cell_type": "code",
      "metadata": {
        "colab": {
          "base_uri": "https://localhost:8080/"
        },
        "id": "b761937d",
        "outputId": "f69cc62b-c7bd-4ba9-b05c-07d8fd5d6fca"
      },
      "source": [
        "# 9. Elabore um algoritmo que solicite ao usuário um número inteiro que indicará a quantidade\n",
        "# de vezes que o texto \"Hello World!\" será impresso na tela, um em cada linha.\n",
        "\n",
        "quantidade = int(input(\"Digite a quantidade de vezes que deseja imprimir 'Hello World!': \"))\n",
        "\n",
        "for _ in range(quantidade):\n",
        "  print(\"Hello World!\")"
      ],
      "execution_count": null,
      "outputs": [
        {
          "output_type": "stream",
          "name": "stdout",
          "text": [
            "Digite a quantidade de vezes que deseja imprimir 'Hello World!': 1\n",
            "Hello World!\n"
          ]
        }
      ]
    },
    {
      "cell_type": "code",
      "metadata": {
        "colab": {
          "base_uri": "https://localhost:8080/"
        },
        "id": "f5ffcc37",
        "outputId": "8266bc39-b728-4821-b36e-31d73b0e5610"
      },
      "source": [
        "# 10. Elabore um algoritmo que solicite ao usuário uma palavra e um número inteiro que\n",
        "# indicará a quantidade de vezes que a palavra digitada será impressa na tela, um em cada\n",
        "# linha\n",
        "\n",
        "palavra = input(\"Digite a palavra que deseja imprimir: \")\n",
        "quantidade = int(input(\"Digite a quantidade de vezes que deseja imprimir a palavra: \"))\n",
        "\n",
        "for _ in range(quantidade):\n",
        "  print(palavra)"
      ],
      "execution_count": null,
      "outputs": [
        {
          "output_type": "stream",
          "name": "stdout",
          "text": [
            "Digite a palavra que deseja imprimir: burro\n",
            "Digite a quantidade de vezes que deseja imprimir a palavra: 2\n",
            "burro\n",
            "burro\n"
          ]
        }
      ]
    },
    {
      "cell_type": "code",
      "metadata": {
        "id": "651d965c"
      },
      "source": [
        "# 11. Elabore um algoritmo que leia um número de entrada que indicará a quantidade de\n",
        "# números a serem lidos. Em seguida, leia n números (conforme o valor informado\n",
        "# anteriormente) e imprima a soma e a média aritmética dos números informados\n",
        "\n",
        "quantidade_numeros = int(input(\"Digite a quantidade de números a serem lidos: \"))\n",
        "soma = 0\n",
        "\n",
        "for i in range(quantidade_numeros):\n",
        "  numero = int(input(f\"Digite o número {i+1}: \"))\n",
        "  soma += numero\n",
        "\n",
        "media = soma / quantidade_numeros\n",
        "\n",
        "print(f\"A soma dos números é: {soma}\")\n",
        "print(f\"A média aritmética dos números é: {media}\")"
      ],
      "execution_count": null,
      "outputs": []
    },
    {
      "cell_type": "code",
      "metadata": {
        "id": "c9cbaf0d"
      },
      "source": [
        "# 12. Elabore um algoritmo que leia um número de entrada que indicará a quantidade de\n",
        "# registros a serem lidos (N). Em seguida algoritmo deve solicitar o nome e idade de N\n",
        "# pessoas e ao final apresentar o nome da pessoa mais velha\n",
        "\n",
        "quantidade_pessoas = int(input(\"Digite a quantidade de pessoas: \"))\n",
        "\n",
        "nome_mais_velho = \"\"\n",
        "idade_mais_velho = -1\n",
        "\n",
        "for i in range(quantidade_pessoas):\n",
        "  nome = input(f\"Digite o nome da pessoa {i+1}: \")\n",
        "  idade = int(input(f\"Digite a idade de {nome}: \"))\n",
        "\n",
        "  if idade > idade_mais_velho:\n",
        "    idade_mais_velho = idade\n",
        "    nome_mais_velho = nome\n",
        "\n",
        "print(f\"A pessoa mais velha é: {nome_mais_velho}\")"
      ],
      "execution_count": null,
      "outputs": []
    },
    {
      "cell_type": "code",
      "metadata": {
        "id": "0b05593d"
      },
      "source": [
        "# 13. Elabore um algoritmo que leia um número de entrada que indicará a quantidade de\n",
        "# registros a serem lidos (N). Em seguida algoritmo deve solicitar o sexo (M/F) e idade de N\n",
        "# pessoas e ao final apresentar a média de idade de ambos os gêneros catalogados.\n",
        "\n",
        "quantidade_registros = int(input(\"Digite a quantidade de registros a serem lidos: \"))\n",
        "\n",
        "soma_idade_masculino = 0\n",
        "contador_masculino = 0\n",
        "soma_idade_feminino = 0\n",
        "contador_feminino = 0\n",
        "\n",
        "for i in range(quantidade_registros):\n",
        "    sexo = input(f\"Digite o sexo da pessoa {i+1} (M/F): \").upper()\n",
        "    idade = int(input(f\"Digite a idade da pessoa {i+1}: \"))\n",
        "\n",
        "    if sexo == 'M':\n",
        "        soma_idade_masculino += idade\n",
        "        contador_masculino += 1\n",
        "    elif sexo == 'F':\n",
        "        soma_idade_feminino += idade\n",
        "        contador_feminino += 1\n",
        "    else:\n",
        "        print(f\"Sexo inválido para o registro {i+1}. Ignorando este registro.\")\n",
        "\n",
        "media_idade_masculino = soma_idade_masculino / contador_masculino if contador_masculino > 0 else 0\n",
        "media_idade_feminino = soma_idade_feminino / contador_feminino if contador_feminino > 0 else 0\n",
        "\n",
        "print(f\"\\nMédia de idade do gênero Masculino: {media_idade_masculino:.2f}\")\n",
        "print(f\"Média de idade do gênero Feminino: {media_idade_feminino:.2f}\")"
      ],
      "execution_count": null,
      "outputs": []
    },
    {
      "cell_type": "code",
      "metadata": {
        "id": "f93ef005"
      },
      "source": [
        "# 14. Elabore um algoritmo que solicite ao usuário 10 números reais e ao final apresente o\n",
        "# maior e o menor deles.\n",
        "\n",
        "maior = float('-inf') # Initialize with negative infinity\n",
        "menor = float('inf')  # Initialize with positive infinity\n",
        "\n",
        "for i in range(10):\n",
        "  numero = float(input(f\"Digite o número {i+1}: \"))\n",
        "\n",
        "  if numero > maior:\n",
        "    maior = numero\n",
        "  if numero < menor:\n",
        "    menor = numero\n",
        "\n",
        "print(f\"\\nO maior número digitado é: {maior}\")\n",
        "print(f\"O menor número digitado é: {menor}\")"
      ],
      "execution_count": null,
      "outputs": []
    },
    {
      "cell_type": "code",
      "metadata": {
        "id": "72b00d5f"
      },
      "source": [
        "# 15. Elabore um algoritmo que solicite N números reais e quando o usuário informar o valor\n",
        "# nulo 0 (zero) o programa ordene e mostre todos os números informados de forma crescente\n",
        "\n",
        "numeros = []\n",
        "\n",
        "while True:\n",
        "  numero = float(input(\"Digite um número real (digite 0 para parar): \"))\n",
        "  if numero == 0:\n",
        "    break\n",
        "  numeros.append(numero)\n",
        "\n",
        "numeros.sort()\n",
        "\n",
        "print(\"\\nNúmeros informados em ordem crescente:\")\n",
        "for num in numeros:\n",
        "  print(num)"
      ],
      "execution_count": null,
      "outputs": []
    },
    {
      "cell_type": "code",
      "source": [
        "# 16. Escreva um programa que vá solicitando as idades dos alunos da sala até que todos\n",
        "# sejam informados (perguntar ao usuário se deseja informar a idade do próximo aluno). Ao\n",
        "# final apresentar a idade do mais novo, a idade do mais velho, Quantos alunos têm mais de\n",
        "# 18 anos, quantos alunos têm até 18 anos, a média aritmética e a mediana.\n",
        "\n",
        "idades = []\n",
        "while True:\n",
        "    idade_str = input(\"Digite a idade do aluno (ou 'fim' para encerrar): \")\n",
        "    if idade_str.lower() == 'fim':\n",
        "        break\n",
        "    try:\n",
        "        idade = int(idade_str)\n",
        "        idades.append(idade)\n",
        "    except ValueError:\n",
        "        print(\"Idade inválida. Por favor, digite um número inteiro ou 'fim'.\")\n",
        "\n",
        "if idades:\n",
        "    mais_novo = min(idades)\n",
        "    mais_velho = max(idades)\n",
        "    maiores_de_18 = sum(1 for idade in idades if idade > 18)\n",
        "    ate_18 = sum(1 for idade in idades if idade <= 18)\n",
        "    media = sum(idades) / len(idades)\n",
        "\n",
        "    idades.sort()\n",
        "    n = len(idades)\n",
        "    if n % 2 == 0:\n",
        "        mediana = (idades[n // 2 - 1] + idades[n // 2]) / 2\n",
        "    else:\n",
        "        mediana = idades[n // 2]\n",
        "\n",
        "    print(\"\\nResultados:\")\n",
        "    print(\"Idade do mais novo:\", mais_novo)\n",
        "    print(\"Idade do mais velho:\", mais_velho)\n",
        "    print(\"Alunos com mais de 18 anos:\", maiores_de_18)\n",
        "    print(\"Alunos com até 18 anos:\", ate_18)\n",
        "    print(\"Média aritmética das idades:\", media)\n",
        "    print(\"Mediana das idades:\", mediana)\n",
        "else:\n",
        "    print(\"Nenhuma idade foi informada.\")"
      ],
      "metadata": {
        "id": "GrPDYsleVVrD"
      },
      "execution_count": null,
      "outputs": []
    },
    {
      "cell_type": "markdown",
      "metadata": {
        "id": "83b4f148"
      },
      "source": [
        "# Task\n",
        "Elabore um programa que vá solicitando as idades dos alunos da sala até que todos sejam informados (perguntar ao usuário se deseja informar a idade do próximo aluno). Ao final apresentar a idade do mais novo, a idade do mais velho, Quantos alunos têm mais de 18 anos, quantos alunos têm até 18 anos, a média aritmética e a mediana."
      ]
    },
    {
      "cell_type": "markdown",
      "metadata": {
        "id": "0557b40f"
      },
      "source": [
        "## Collect ages\n",
        "\n",
        "### Subtask:\n",
        "Repeatedly ask the user for student ages until they indicate they are finished. Store the ages in a list.\n"
      ]
    },
    {
      "cell_type": "markdown",
      "metadata": {
        "id": "8b551803"
      },
      "source": [
        "**Reasoning**:\n",
        "Initialize an empty list and start a loop to repeatedly ask for ages and store them until the user indicates they are done.\n",
        "\n"
      ]
    },
    {
      "cell_type": "code",
      "metadata": {
        "colab": {
          "base_uri": "https://localhost:8080/"
        },
        "id": "2f6a3ff1",
        "outputId": "c2b230dc-54e2-45df-a8bc-1cb46eaecbf1"
      },
      "source": [
        "idades_alunos = []\n",
        "\n",
        "while True:\n",
        "  idade = int(input(\"Digite a idade do aluno: \"))\n",
        "  idades_alunos.append(idade)\n",
        "\n",
        "  continuar = input(\"Deseja informar a idade do próximo aluno? (sim/não): \").lower()\n",
        "  if continuar == 'não':\n",
        "    break"
      ],
      "execution_count": null,
      "outputs": [
        {
          "name": "stdout",
          "output_type": "stream",
          "text": [
            "Digite a idade do aluno: 16\n",
            "Deseja informar a idade do próximo aluno? (sim/não): sim\n",
            "Digite a idade do aluno: 17\n",
            "Deseja informar a idade do próximo aluno? (sim/não): nao\n",
            "Digite a idade do aluno: 18\n",
            "Deseja informar a idade do próximo aluno? (sim/não): não\n"
          ]
        }
      ]
    },
    {
      "cell_type": "markdown",
      "metadata": {
        "id": "128c0b66"
      },
      "source": [
        "## Calculate statistics\n",
        "\n",
        "### Subtask:\n",
        "Calculate the youngest age, the oldest age, the number of students over 18, the number of students 18 or under, the average age, and the median age from the collected data.\n"
      ]
    },
    {
      "cell_type": "markdown",
      "metadata": {
        "id": "4b15e4fe"
      },
      "source": [
        "**Reasoning**:\n",
        "Calculate the required statistics from the `idades_alunos` list as per the instructions.\n",
        "\n"
      ]
    },
    {
      "cell_type": "code",
      "metadata": {
        "colab": {
          "base_uri": "https://localhost:8080/"
        },
        "id": "c4ac9fcd",
        "outputId": "ffe929ae-fbbe-4a28-febe-7ae19d29fc42"
      },
      "source": [
        "idade_mais_novo = min(idades_alunos) if idades_alunos else 0\n",
        "idade_mais_velho = max(idades_alunos) if idades_alunos else 0\n",
        "\n",
        "alunos_mais_de_18 = sum(1 for idade in idades_alunos if idade > 18)\n",
        "alunos_ate_18 = sum(1 for idade in idades_alunos if idade <= 18)\n",
        "\n",
        "soma_idades = sum(idades_alunos)\n",
        "media_idade = soma_idades / len(idades_alunos) if idades_alunos else 0\n",
        "\n",
        "idades_alunos_sorted = sorted(idades_alunos)\n",
        "n = len(idades_alunos_sorted)\n",
        "if n == 0:\n",
        "  mediana_idade = 0\n",
        "elif n % 2 == 1:\n",
        "  mediana_idade = idades_alunos_sorted[n // 2]\n",
        "else:\n",
        "  mid1 = idades_alunos_sorted[n // 2 - 1]\n",
        "  mid2 = idades_alunos_sorted[n // 2]\n",
        "  mediana_idade = (mid1 + mid2) / 2\n",
        "\n",
        "print(f\"Idade do mais novo: {idade_mais_novo}\")\n",
        "print(f\"Idade do mais velho: {idade_mais_velho}\")\n",
        "print(f\"Alunos com mais de 18 anos: {alunos_mais_de_18}\")\n",
        "print(f\"Alunos com até 18 anos: {alunos_ate_18}\")\n",
        "print(f\"Média aritmética das idades: {media_idade:.2f}\")\n",
        "print(f\"Mediana das idades: {mediana_idade:.2f}\")"
      ],
      "execution_count": null,
      "outputs": [
        {
          "output_type": "stream",
          "name": "stdout",
          "text": [
            "Idade do mais novo: 16\n",
            "Idade do mais velho: 18\n",
            "Alunos com mais de 18 anos: 0\n",
            "Alunos com até 18 anos: 3\n",
            "Média aritmética das idades: 17.00\n",
            "Mediana das idades: 17.00\n"
          ]
        }
      ]
    },
    {
      "cell_type": "markdown",
      "metadata": {
        "id": "073e99fd"
      },
      "source": [
        "## Present results\n",
        "\n",
        "### Subtask:\n",
        "Display all the calculated statistics to the user.\n"
      ]
    },
    {
      "cell_type": "markdown",
      "metadata": {
        "id": "d3729b9a"
      },
      "source": [
        "**Reasoning**:\n",
        "Print the calculated statistics with clear labels.\n",
        "\n"
      ]
    },
    {
      "cell_type": "code",
      "metadata": {
        "colab": {
          "base_uri": "https://localhost:8080/"
        },
        "id": "70eca828",
        "outputId": "3bebfa0b-cdbb-495a-e1ad-472bae8b9657"
      },
      "source": [
        "print(f\"Idade do mais novo: {idade_mais_novo}\")\n",
        "print(f\"Idade do mais velho: {idade_mais_velho}\")\n",
        "print(f\"Alunos com mais de 18 anos: {alunos_mais_de_18}\")\n",
        "print(f\"Alunos com até 18 anos: {alunos_ate_18}\")\n",
        "print(f\"Média aritmética das idades: {media_idade:.2f}\")\n",
        "print(f\"Mediana das idades: {mediana_idade:.2f}\")"
      ],
      "execution_count": null,
      "outputs": [
        {
          "output_type": "stream",
          "name": "stdout",
          "text": [
            "Idade do mais novo: 16\n",
            "Idade do mais velho: 18\n",
            "Alunos com mais de 18 anos: 0\n",
            "Alunos com até 18 anos: 3\n",
            "Média aritmética das idades: 17.00\n",
            "Mediana das idades: 17.00\n"
          ]
        }
      ]
    },
    {
      "cell_type": "markdown",
      "metadata": {
        "id": "cee288d1"
      },
      "source": [
        "## Summary:\n",
        "\n",
        "### Data Analysis Key Findings\n",
        "\n",
        "*   The youngest student's age is 16 and the oldest student's age is 18.\n",
        "*   All 3 students are 18 years old or younger, with none being over 18.\n",
        "*   The average age of the students is 17.00 years.\n",
        "*   The median age of the students is also 17.00 years.\n",
        "\n",
        "### Insights or Next Steps\n",
        "\n",
        "*   The close values of the mean and median suggest a symmetrical distribution of ages in this small sample.\n",
        "*   For a larger dataset, visualizing the age distribution (e.g., with a histogram) could provide further insights.\n"
      ]
    }
  ]
}