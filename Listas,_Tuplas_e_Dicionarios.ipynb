{
  "nbformat": 4,
  "nbformat_minor": 0,
  "metadata": {
    "colab": {
      "provenance": [],
      "authorship_tag": "ABX9TyMlRasrqbhcAzoJ1QpJL25z",
      "include_colab_link": true
    },
    "kernelspec": {
      "name": "python3",
      "display_name": "Python 3"
    },
    "language_info": {
      "name": "python"
    }
  },
  "cells": [
    {
      "cell_type": "markdown",
      "metadata": {
        "id": "view-in-github",
        "colab_type": "text"
      },
      "source": [
        "<a href=\"https://colab.research.google.com/github/TEDZ1N/Tecnica-de-desevolvimento-e-algoritmo/blob/main/Listas%2C_Tuplas_e_Dicionarios.ipynb\" target=\"_parent\"><img src=\"https://colab.research.google.com/assets/colab-badge.svg\" alt=\"Open In Colab\"/></a>"
      ]
    },
    {
      "cell_type": "code",
      "execution_count": 6,
      "metadata": {
        "colab": {
          "base_uri": "https://localhost:8080/"
        },
        "id": "akEhYDZslE7j",
        "outputId": "f83014c0-1fcd-4f41-d566-90a5278ca3e6"
      },
      "outputs": [
        {
          "output_type": "stream",
          "name": "stdout",
          "text": [
            "Quantidade de alunos: 10\n",
            "Alguém tirou nota zero? Não\n",
            "Menor nota: 6.7\n",
            "Maior nota: 9.2\n"
          ]
        }
      ],
      "source": [
        "alunos = {\n",
        "    \"Alice\": 8.5,\n",
        "    \"Bruno\": 7.8,\n",
        "    \"Carla\": 9.2,\n",
        "    \"Diego\": 6.9,\n",
        "    \"Eva\": 8.0,\n",
        "    \"Fernando\": 7.5,\n",
        "    \"Gabriela\": 9.0,\n",
        "    \"Henrique\": 6.7,\n",
        "    \"Isabela\": 8.3,\n",
        "    \"João\": 7.2\n",
        "}\n",
        "\n",
        "print(\"Quantidade de alunos:\", len(alunos))\n",
        "\n",
        "# Exibir “Sim” ou “Não”\n",
        "if 0 in alunos.values():\n",
        "    print(\"Alguém tirou nota zero? Sim\")\n",
        "else:\n",
        "    print(\"Alguém tirou nota zero? Não\")\n",
        "\n",
        "print(\"Menor nota:\", min(alunos.values()))\n",
        "print(\"Maior nota:\", max(alunos.values()))\n"
      ]
    },
    {
      "cell_type": "code",
      "source": [
        "animes = {\n",
        "    \"Naruto\": 220,\n",
        "    \"Jujutsu Kaisen\": 47,\n",
        "    \"Dragon Ball Z\": 291,\n",
        "    \"Death Note\": 37,\n",
        "    \"Fullmetal Alchemist\": 64,\n",
        "    \"Evangelion\": 26,\n",
        "    \"Berserk\": 25,\n",
        "    \"Code Geass\": 50,\n",
        "    \"Akame ga Kill\": 24,\n",
        "    \"Elfen Lied\": 13\n",
        "}\n",
        "\n",
        "# 1. Total de episódios\n",
        "total = sum(animes.values())\n",
        "print(\"Total de episódios:\", total)\n",
        "\n",
        "# 2. Substituir valores pelo percentual\n",
        "for anime in animes:\n",
        "    animes[anime] = (animes[anime] / total) * 100\n",
        "\n",
        "# 3. Ordenar em ordem decrescente de percentual\n",
        "animes_ordenados = dict(sorted(animes.items(), key=lambda x: x[1], reverse=True))\n",
        "\n",
        "# 4. Exibir nome e percentual formatado\n",
        "print(\"\\nPercentual de episódios por anime:\")\n",
        "for nome, percentual in animes_ordenados.items():\n",
        "    print(f\"{nome}: {percentual:.2f}%\")\n"
      ],
      "metadata": {
        "colab": {
          "base_uri": "https://localhost:8080/"
        },
        "id": "obHboHhGmBl5",
        "outputId": "4dcd4c33-c5c7-45b4-f929-c4e7dedbeacd"
      },
      "execution_count": 7,
      "outputs": [
        {
          "output_type": "stream",
          "name": "stdout",
          "text": [
            "Total de episódios: 797\n",
            "\n",
            "Percentual de episódios por anime:\n",
            "Dragon Ball Z: 36.51%\n",
            "Naruto: 27.60%\n",
            "Fullmetal Alchemist: 8.03%\n",
            "Code Geass: 6.27%\n",
            "Jujutsu Kaisen: 5.90%\n",
            "Death Note: 4.64%\n",
            "Evangelion: 3.26%\n",
            "Berserk: 3.14%\n",
            "Akame ga Kill: 3.01%\n",
            "Elfen Lied: 1.63%\n"
          ]
        }
      ]
    },
    {
      "cell_type": "code",
      "source": [
        "bandas = {\n",
        "    \"Gangrena Gasosa\": [\n",
        "        {\"álbum\": \"Gente Ruim Só Manda Lembrança Pra Quem Não Presta\", \"ano\": 2019},\n",
        "        {\"álbum\": \"Se Deus É 10, Satanás É 666\", \"ano\": 1999},\n",
        "        {\"álbum\": \"Welcome to the Macumba\", \"ano\": 1993}\n",
        "    ],\n",
        "    \"Rogério Skylab\": [\n",
        "        {\"álbum\": \"Nas Portas do Cu\", \"ano\": 2023},\n",
        "        {\"álbum\": \"Crítica da Faculdade do Cu\", \"ano\": 2021},\n",
        "        {\"álbum\": \"Cosmos\", \"ano\": 2019}\n",
        "    ],\n",
        "    \"Garotos Podres\": [\n",
        "        {\"álbum\": \"Canções para Ninar\", \"ano\": 2003},\n",
        "        {\"álbum\": \"Com a Corda Toda\", \"ano\": 1997},\n",
        "        {\"álbum\": \"Rock de Subúrbio\", \"ano\": 1995}\n",
        "    ],\n",
        "    \"Massacration\": [\n",
        "        {\"álbum\": \"Live Metal Espancation\", \"ano\": 2017},\n",
        "        {\"álbum\": \"Good Blood Headbanguers\", \"ano\": 2009},\n",
        "        {\"álbum\": \"Gates of Metal Fried Chicken of Death\", \"ano\": 2005}\n",
        "    ],\n",
        "    \"Raimundos\": [\n",
        "        {\"álbum\": \"Cantigas de Roda\", \"ano\": 2014},\n",
        "        {\"álbum\": \"Roda Viva\", \"ano\": 2002},\n",
        "        {\"álbum\": \"Éramos 4\", \"ano\": 2001}\n",
        "    ]\n",
        "}\n",
        "\n",
        "# 1️⃣ Álbum mais antigo\n",
        "todos_albuns = []\n",
        "for banda, albuns in bandas.items():\n",
        "    for a in albuns:\n",
        "        todos_albuns.append({\"banda\": banda, \"álbum\": a[\"álbum\"], \"ano\": a[\"ano\"]})\n",
        "\n",
        "mais_antigo = min(todos_albuns, key=lambda x: x[\"ano\"])\n",
        "print(f\"Álbum mais antigo: '{mais_antigo['álbum']}' da banda {mais_antigo['banda']} ({mais_antigo['ano']})\")\n",
        "\n",
        "# 2️⃣ Banda com maior intervalo entre os álbuns\n",
        "maior_intervalo = 0\n",
        "banda_maior_intervalo = None\n",
        "\n",
        "for banda, albuns in bandas.items():\n",
        "    anos = [a[\"ano\"] for a in albuns]\n",
        "    intervalo = max(anos) - min(anos)\n",
        "    if intervalo > maior_intervalo:\n",
        "        maior_intervalo = intervalo\n",
        "        banda_maior_intervalo = banda\n",
        "\n",
        "print(f\"Banda com maior intervalo entre álbuns: {banda_maior_intervalo} ({maior_intervalo} anos)\")\n",
        "\n",
        "# 3️⃣ Todos os álbuns do mais novo para o mais antigo\n",
        "todos_albuns.sort(key=lambda x: x[\"ano\"], reverse=True)\n",
        "print(\"\\nÁlbuns do mais novo para o mais antigo:\")\n",
        "for a in todos_albuns:\n",
        "    print(f\"{a['ano']} - {a['álbum']} ({a['banda']})\")\n"
      ],
      "metadata": {
        "colab": {
          "base_uri": "https://localhost:8080/"
        },
        "id": "m6h6QQtWpau8",
        "outputId": "17190af7-64e2-4cda-e7b3-44a69f9ed0f3"
      },
      "execution_count": 8,
      "outputs": [
        {
          "output_type": "stream",
          "name": "stdout",
          "text": [
            "Álbum mais antigo: 'Welcome to the Macumba' da banda Gangrena Gasosa (1993)\n",
            "Banda com maior intervalo entre álbuns: Gangrena Gasosa (26 anos)\n",
            "\n",
            "Álbuns do mais novo para o mais antigo:\n",
            "2023 - Nas Portas do Cu (Rogério Skylab)\n",
            "2021 - Crítica da Faculdade do Cu (Rogério Skylab)\n",
            "2019 - Gente Ruim Só Manda Lembrança Pra Quem Não Presta (Gangrena Gasosa)\n",
            "2019 - Cosmos (Rogério Skylab)\n",
            "2017 - Live Metal Espancation (Massacration)\n",
            "2014 - Cantigas de Roda (Raimundos)\n",
            "2009 - Good Blood Headbanguers (Massacration)\n",
            "2005 - Gates of Metal Fried Chicken of Death (Massacration)\n",
            "2003 - Canções para Ninar (Garotos Podres)\n",
            "2002 - Roda Viva (Raimundos)\n",
            "2001 - Éramos 4 (Raimundos)\n",
            "1999 - Se Deus É 10, Satanás É 666 (Gangrena Gasosa)\n",
            "1997 - Com a Corda Toda (Garotos Podres)\n",
            "1995 - Rock de Subúrbio (Garotos Podres)\n",
            "1993 - Welcome to the Macumba (Gangrena Gasosa)\n"
          ]
        }
      ]
    }
  ]
}